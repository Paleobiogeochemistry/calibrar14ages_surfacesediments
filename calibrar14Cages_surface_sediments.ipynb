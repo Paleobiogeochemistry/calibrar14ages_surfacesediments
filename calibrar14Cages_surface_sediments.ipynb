{
 "cells": [
  {
   "cell_type": "code",
   "execution_count": null,
   "id": "fb8f67c0",
   "metadata": {},
   "outputs": [],
   "source": [
    "import pandas as pd\n",
    "import numpy as np\n",
    "import iosacal\n",
    "from iosacal import R, iplot \n",
    "from iosacal.text import single_text"
   ]
  },
  {
   "cell_type": "code",
   "execution_count": null,
   "id": "e7eb78c3",
   "metadata": {},
   "outputs": [],
   "source": [
    "calibration_curve = 'SHCal20'"
   ]
  },
  {
   "cell_type": "code",
   "execution_count": null,
   "id": "cd30d7cd",
   "metadata": {},
   "outputs": [],
   "source": [
    "#ages_raw = pd.read_excel(r'C:')\n",
    "ages = ages_raw.drop(0)\n",
    "ages = ages.dropna(subset=['Corrected\\n14C age\\n(years BP)'])\n",
    "ages = ages.drop([42])\n",
    "ages"
   ]
  },
  {
   "cell_type": "code",
   "execution_count": null,
   "id": "c27b9fe4",
   "metadata": {},
   "outputs": [],
   "source": [
    "ages['Cal age yr BP_re']=np.nan\n",
    "ages['Cal age yr BP_1sigma']=np.nan\n",
    "ages['Cal age yr BP_1sigma_2']=np.nan\n",
    "\n",
    "ages = ages['Corrected\\n14C age\\n(years BP)']\n",
    "errors = ages['± (δz) ']\n",
    "sample = ages['Code Lab']\n",
    "for age, error, sample in zip(ages, errors, samples):\n",
    "    print('\\033[1m'+str(sample)+'\\033[0m')\n",
    "    print(age, error)\n",
    "    if age >0:\n",
    "        temp = R(age,error,sample)\n",
    "        temp_cal = temp.calibrate(calibration_curve) \n",
    "        quants = temp_cal.quantiles()\n",
    "        print(f'\\n Median = {quants[50]} \\n 1σ = {quants[68]} \\n 2σ = {quants[95]} ')\n",
    "        index = ages[ages['Code Lab']==sample].index\n",
    "        ages.loc[index, 'Cal age yr BP_re'] = quants[50]\n",
    "        ages.loc[index, 'Cal age yr BP_1sigma'] = quants[68][0]\n",
    "        ages.loc[index, 'Cal age yr BP_1sigma_2'] = quants[68][1]\n",
    "            \n",
    "        print(\" \")"
   ]
  },
  {
   "cell_type": "code",
   "execution_count": null,
   "id": "c1ece970",
   "metadata": {},
   "outputs": [],
   "source": [
    "#ages.to_excel('.xlsx')"
   ]
  }
 ],
 "metadata": {
  "kernelspec": {
   "display_name": "Python 3 (ipykernel)",
   "language": "python",
   "name": "python3"
  },
  "language_info": {
   "codemirror_mode": {
    "name": "ipython",
    "version": 3
   },
   "file_extension": ".py",
   "mimetype": "text/x-python",
   "name": "python",
   "nbconvert_exporter": "python",
   "pygments_lexer": "ipython3",
   "version": "3.9.13"
  }
 },
 "nbformat": 4,
 "nbformat_minor": 5
}
